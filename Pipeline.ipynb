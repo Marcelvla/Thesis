{
 "cells": [
  {
   "cell_type": "markdown",
   "id": "f9ad4b7e",
   "metadata": {},
   "source": [
    "# Dummy pipeline for classifying citations"
   ]
  },
  {
   "cell_type": "code",
   "execution_count": 1,
   "id": "2e4fa10a",
   "metadata": {},
   "outputs": [],
   "source": [
    "## Imports\n",
    "import pandas as pd\n",
    "import numpy as np\n",
    "from collections import Counter\n",
    "import nltk\n",
    "import string\n",
    "from sklearn.feature_extraction.text import CountVectorizer"
   ]
  },
  {
   "cell_type": "code",
   "execution_count": 2,
   "id": "437c20aa",
   "metadata": {},
   "outputs": [],
   "source": [
    "# Immutables\n",
    "file = 'unarXive_sample/context_centered_sample/citation_context_sample.csv'\n",
    "punctuations = list(string.punctuation)\n",
    "keywords = ['CIT', 'MAINCIT', 'REF', 'FORMULA']\n",
    "filtr = punctuations + keywords"
   ]
  },
  {
   "cell_type": "markdown",
   "id": "c551b500",
   "metadata": {},
   "source": [
    "## Functions"
   ]
  },
  {
   "cell_type": "code",
   "execution_count": 4,
   "id": "b53a1f57",
   "metadata": {},
   "outputs": [],
   "source": [
    "def readCitations(file, ret='all'):\n",
    "    ''' Open csv with citations, choose what to return:\n",
    "            - a dict with all citation contexts for every cited paper\n",
    "            - the corresponding arxiv and mag ids\n",
    "            - the csv as dataframe\n",
    "            - all three of the above\n",
    "        Based on MAG ID since arXiv ID seems to be less complete\n",
    "    '''\n",
    "    columns = ['cited_paper_mag_id',\n",
    "               'adjacent_citations_mag_ids',\n",
    "               'citing_paper_mag_id',\n",
    "               'cited_paper_arxiv_id',\n",
    "               'adjacent_citations_arxiv_ids',\n",
    "               'citing_paper_arxiv_id', \n",
    "               'citation_context']\n",
    "    \n",
    "    cit = pd.read_csv(file, sep='\\u241E', encoding='utf-8', engine='python', names=columns)\n",
    "    \n",
    "    keys = list(set(cit['cited_paper_mag_id']))\n",
    "    context_dict = {k:[] for k in keys}\n",
    "    mag2arx_dict = {k:None for k in keys}\n",
    "\n",
    "    for i in range(len(cit)):\n",
    "        # Main vars -- Later add adjacent citations?\n",
    "        mag = cit['cited_paper_mag_id'][i]\n",
    "        arx = cit['cited_paper_arxiv_id'][i]\n",
    "        citcon = cit['citation_context'][i]\n",
    "\n",
    "        # Add context to dictionary\n",
    "        temp_list = context_dict[mag]\n",
    "        temp_list.append(citcon)\n",
    "        context_dict[mag] = temp_list\n",
    "\n",
    "        # Add arXiv ID if available\n",
    "        mag2arx_dict[mag] = arx\n",
    "    \n",
    "    if ret == 'cit':\n",
    "        return cit\n",
    "    elif ret == 'con':\n",
    "        return context_dict\n",
    "    elif ret == 'm2a':\n",
    "        return mag2arx_dict\n",
    "    else:\n",
    "        return cit, context_dict, mag2arx_dict\n",
    "\n",
    "## Create bag of words model with CountVectorizer ##\n",
    "def bowVector(vocab, corpus):\n",
    "    vectorizer = CountVectorizer(vocabulary=vocab)\n",
    "    X = vectorizer.fit_transform(corpus)\n",
    "    wordvec = X.toarray()\n",
    "    vec_vocab = vectorizer.get_feature_names_out()\n",
    "    \n",
    "    return X, wordvec, vec_vocab"
   ]
  },
  {
   "cell_type": "markdown",
   "id": "4d7f2546",
   "metadata": {},
   "source": [
    "## Data"
   ]
  },
  {
   "cell_type": "code",
   "execution_count": 5,
   "id": "e82ea2d7",
   "metadata": {},
   "outputs": [],
   "source": [
    "cit, context_dict, mag2arx_dict = readCitations(file, 'all')"
   ]
  },
  {
   "cell_type": "code",
   "execution_count": 10,
   "id": "4663c864",
   "metadata": {},
   "outputs": [
    {
     "ename": "NameError",
     "evalue": "name 'ct' is not defined",
     "output_type": "error",
     "traceback": [
      "\u001b[0;31m---------------------------------------------------------------------------\u001b[0m",
      "\u001b[0;31mNameError\u001b[0m                                 Traceback (most recent call last)",
      "Input \u001b[0;32mIn [10]\u001b[0m, in \u001b[0;36m<module>\u001b[0;34m\u001b[0m\n\u001b[1;32m      6\u001b[0m \u001b[38;5;66;03m# Filtered bag with all words\u001b[39;00m\n\u001b[1;32m      7\u001b[0m \u001b[38;5;66;03m# bag = [word.lower() for word in nltk.word_tokenize(ct) for ct in citcon_sent if word not in filtr]\u001b[39;00m\n\u001b[1;32m      8\u001b[0m \u001b[38;5;66;03m# for ct in cit['citation_context']:\u001b[39;00m\n\u001b[0;32m   (...)\u001b[0m\n\u001b[1;32m     11\u001b[0m \n\u001b[1;32m     12\u001b[0m \u001b[38;5;66;03m## Create subset of data\u001b[39;00m\n\u001b[1;32m     13\u001b[0m sub_citcon \u001b[38;5;241m=\u001b[39m citcon_sent[\u001b[38;5;241m0\u001b[39m:\u001b[38;5;241m2\u001b[39m]\n\u001b[0;32m---> 14\u001b[0m sub_bag \u001b[38;5;241m=\u001b[39m \u001b[38;5;28mset\u001b[39m([word\u001b[38;5;241m.\u001b[39mlower() \u001b[38;5;28;01mfor\u001b[39;00m word \u001b[38;5;129;01min\u001b[39;00m nltk\u001b[38;5;241m.\u001b[39mword_tokenize(\u001b[43mct\u001b[49m) \u001b[38;5;28;01mif\u001b[39;00m word \u001b[38;5;129;01mnot\u001b[39;00m \u001b[38;5;129;01min\u001b[39;00m filtr \u001b[38;5;28;01mfor\u001b[39;00m ct \u001b[38;5;129;01min\u001b[39;00m sub_citcon])\n",
      "\u001b[0;31mNameError\u001b[0m: name 'ct' is not defined"
     ]
    }
   ],
   "source": [
    "## Filter out punctuation and weird words\n",
    "citcon_ftd = [[word.lower() for word in nltk.word_tokenize(ct) if word not in filtr] for ct in cit['citation_context']]\n",
    "## Corpus with all sentences\n",
    "citcon_sent = [' '.join(citcon) for citcon in citcon_ftd] \n",
    "\n",
    "# Filtered bag with all words\n",
    "# bag = [word.lower() for word in nltk.word_tokenize(ct) for ct in citcon_sent if word not in filtr]\n",
    "# for ct in cit['citation_context']:\n",
    "#     bag += [word.lower() for word in nltk.word_tokenize(ct) if word not in filtr]\n",
    "# bag_counter = Counter(bag)\n",
    "\n",
    "## Create subset of data\n",
    "sub_citcon = citcon_sent[0:2]\n",
    "sub_bag = set([word.lower() for word in nltk.word_tokenize(ct) if word not in filtr for ct in sub_citcon])\n"
   ]
  },
  {
   "cell_type": "code",
   "execution_count": 7,
   "id": "f7cbf925",
   "metadata": {},
   "outputs": [],
   "source": [
    "\n",
    "# X, wordvec, vec_vocab = bowVector(set(bag), citcon_sent)"
   ]
  },
  {
   "cell_type": "code",
   "execution_count": null,
   "id": "dbac343c",
   "metadata": {
    "scrolled": true
   },
   "outputs": [],
   "source": [
    "X\n",
    "# [print(w, w in bag) for w in list(scikit_words)]\n",
    "# [print(w, w in scikit_words) for w in bag]\n",
    "# checkbag = []\n",
    "# for s in citcon_sent[0:5]:\n",
    "#     words = nltk.word_tokenize(s)\n",
    "#     for w in words:\n",
    "#         if w not in checkbag:\n",
    "#             checkbag.append(w)"
   ]
  },
  {
   "cell_type": "code",
   "execution_count": null,
   "id": "215d1d3f",
   "metadata": {
    "scrolled": true
   },
   "outputs": [],
   "source": [
    "list(scikit_words)"
   ]
  },
  {
   "cell_type": "code",
   "execution_count": null,
   "id": "c3ad6cb5",
   "metadata": {},
   "outputs": [],
   "source": [
    "columns = ['cited_paper_mag_id','adjacent_citations_mag_ids','citing_paper_mag_id','cited_paper_arxiv_id','adjacent_citations_arxiv_ids','citing_paper_arxiv_id', 'citation_context']\n",
    "sample = pd.read_csv('unarXive_sample/context_centered_sample/citation_context_sample.csv', sep='\\u241E', encoding='utf-8', engine='python', names=columns)\n",
    "\n",
    "cited_papers = [(sample['cited_paper_arxiv_id'][i], sample['cited_paper_mag_id'][i]) for i in range(len(sample))]\n",
    "\n",
    "## Dictionary creation\n",
    "\n",
    "keys = list(set(sample['cited_paper_mag_id']))\n",
    "context_dict = {k:[] for k in keys}\n",
    "mag2arx_dict = {k:None for k in keys}\n",
    "\n",
    "for i in range(len(sample)):\n",
    "    # Main vars -- Later add adjacent citations?\n",
    "    mag = sample['cited_paper_mag_id'][i]\n",
    "    arx = sample['cited_paper_arxiv_id'][i]\n",
    "    citcon = sample['citation_context'][i]\n",
    "    \n",
    "    # Add context to dictionary\n",
    "    temp_list = context_dict[mag]\n",
    "    temp_list.append(citcon)\n",
    "    context_dict[mag] = temp_list\n",
    "    \n",
    "    # Add arXiv ID if available\n",
    "    mag2arx_dict[mag] = arx"
   ]
  },
  {
   "cell_type": "code",
   "execution_count": null,
   "id": "0fb63f80",
   "metadata": {},
   "outputs": [],
   "source": [
    "# [print(k, v) for k, v in context_dict.items()]"
   ]
  },
  {
   "cell_type": "code",
   "execution_count": null,
   "id": "48874db2",
   "metadata": {},
   "outputs": [],
   "source": []
  },
  {
   "cell_type": "code",
   "execution_count": null,
   "id": "cfce3718",
   "metadata": {},
   "outputs": [],
   "source": []
  },
  {
   "cell_type": "code",
   "execution_count": null,
   "id": "3169e561",
   "metadata": {},
   "outputs": [],
   "source": []
  },
  {
   "cell_type": "code",
   "execution_count": null,
   "id": "7a016be8",
   "metadata": {},
   "outputs": [],
   "source": []
  }
 ],
 "metadata": {
  "kernelspec": {
   "display_name": "Python 3 (ipykernel)",
   "language": "python",
   "name": "python3"
  },
  "language_info": {
   "codemirror_mode": {
    "name": "ipython",
    "version": 3
   },
   "file_extension": ".py",
   "mimetype": "text/x-python",
   "name": "python",
   "nbconvert_exporter": "python",
   "pygments_lexer": "ipython3",
   "version": "3.9.7"
  }
 },
 "nbformat": 4,
 "nbformat_minor": 5
}
